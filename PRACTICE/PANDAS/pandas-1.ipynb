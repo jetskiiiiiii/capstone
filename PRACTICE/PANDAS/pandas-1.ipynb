{
 "cells": [
  {
   "cell_type": "code",
   "execution_count": 3,
   "metadata": {},
   "outputs": [],
   "source": [
    "import pandas as pd"
   ]
  },
  {
   "cell_type": "markdown",
   "metadata": {},
   "source": [
    "# Dataframe object in pandas\n",
    "\n",
    "aka a table"
   ]
  },
  {
   "cell_type": "code",
   "execution_count": 4,
   "metadata": {},
   "outputs": [
    {
     "data": {
      "text/html": [
       "<div>\n",
       "<style scoped>\n",
       "    .dataframe tbody tr th:only-of-type {\n",
       "        vertical-align: middle;\n",
       "    }\n",
       "\n",
       "    .dataframe tbody tr th {\n",
       "        vertical-align: top;\n",
       "    }\n",
       "\n",
       "    .dataframe thead th {\n",
       "        text-align: right;\n",
       "    }\n",
       "</style>\n",
       "<table border=\"1\" class=\"dataframe\">\n",
       "  <thead>\n",
       "    <tr style=\"text-align: right;\">\n",
       "      <th></th>\n",
       "      <th>Bird</th>\n",
       "      <th>Fish</th>\n",
       "    </tr>\n",
       "  </thead>\n",
       "  <tbody>\n",
       "    <tr>\n",
       "      <th>0</th>\n",
       "      <td>Eagle</td>\n",
       "      <td>Goldfish</td>\n",
       "    </tr>\n",
       "    <tr>\n",
       "      <th>1</th>\n",
       "      <td>Hummingbird</td>\n",
       "      <td>Tuna</td>\n",
       "    </tr>\n",
       "  </tbody>\n",
       "</table>\n",
       "</div>"
      ],
      "text/plain": [
       "          Bird      Fish\n",
       "0        Eagle  Goldfish\n",
       "1  Hummingbird      Tuna"
      ]
     },
     "execution_count": 4,
     "metadata": {},
     "output_type": "execute_result"
    }
   ],
   "source": [
    "# Sample Dataframe\n",
    "\n",
    "# sample_df = pd.DataFrame({'Bird': ['Eagle', 'Hummingbird'], 'Fish': ['Goldfish', 'Tuna']})\n",
    "# sample_df"
   ]
  },
  {
   "cell_type": "code",
   "execution_count": 12,
   "metadata": {},
   "outputs": [
    {
     "data": {
      "text/html": [
       "<div>\n",
       "<style scoped>\n",
       "    .dataframe tbody tr th:only-of-type {\n",
       "        vertical-align: middle;\n",
       "    }\n",
       "\n",
       "    .dataframe tbody tr th {\n",
       "        vertical-align: top;\n",
       "    }\n",
       "\n",
       "    .dataframe thead th {\n",
       "        text-align: right;\n",
       "    }\n",
       "</style>\n",
       "<table border=\"1\" class=\"dataframe\">\n",
       "  <thead>\n",
       "    <tr style=\"text-align: right;\">\n",
       "      <th></th>\n",
       "      <th>Bird</th>\n",
       "      <th>Fish</th>\n",
       "    </tr>\n",
       "  </thead>\n",
       "  <tbody>\n",
       "    <tr>\n",
       "      <th>Type 1</th>\n",
       "      <td>Eagle</td>\n",
       "      <td>Goldfish</td>\n",
       "    </tr>\n",
       "    <tr>\n",
       "      <th>Type 2</th>\n",
       "      <td>Hummingbird</td>\n",
       "      <td>Tuna</td>\n",
       "    </tr>\n",
       "  </tbody>\n",
       "</table>\n",
       "</div>"
      ],
      "text/plain": [
       "               Bird      Fish\n",
       "Type 1        Eagle  Goldfish\n",
       "Type 2  Hummingbird      Tuna"
      ]
     },
     "execution_count": 12,
     "metadata": {},
     "output_type": "execute_result"
    }
   ],
   "source": [
    "# Setting values for Dataframe indices\n",
    "\n",
    "# sample_df = pd.DataFrame({'Bird': ['Eagle', 'Hummingbird'],\n",
    "#                           'Fish': ['Goldfish', 'Tuna']},\n",
    "#                          index=['Type 1', 'Type 2'])\n",
    "\n",
    "# sample_df"
   ]
  },
  {
   "cell_type": "markdown",
   "metadata": {},
   "source": [
    "# Series object in pandas\n",
    "\n",
    "aka a list, or one column in a Dataframe"
   ]
  },
  {
   "cell_type": "code",
   "execution_count": 14,
   "metadata": {},
   "outputs": [
    {
     "data": {
      "text/plain": [
       "Animal 1          Eagle\n",
       "Animal 2    Hummingbird\n",
       "Animal 3       Goldfish\n",
       "Animal 4           Tuna\n",
       "Name: Animals, dtype: object"
      ]
     },
     "execution_count": 14,
     "metadata": {},
     "output_type": "execute_result"
    }
   ],
   "source": [
    "# Sample Series\n",
    "\n",
    "# Instead of keys defining the column names like in a Dataframe, we have a 'name' parameter that assigns the overall name\n",
    "# sample_series = pd.Series(['Eagle', 'Hummingbird', 'Goldfish', 'Tuna'], index=['Animal 1', 'Animal 2', 'Animal 3', 'Animal 4'], name='Animals')\n",
    "# sample_series"
   ]
  },
  {
   "cell_type": "markdown",
   "metadata": {},
   "source": [
    "# Reading data files"
   ]
  },
  {
   "cell_type": "code",
   "execution_count": 5,
   "metadata": {},
   "outputs": [],
   "source": [
    "# Reading csv\n",
    "\n",
    "melbourne_housing_data = pd.read_csv('../INTRO-TO-MACHINE-LEARNING/melb_data.csv')"
   ]
  },
  {
   "cell_type": "code",
   "execution_count": 16,
   "metadata": {},
   "outputs": [
    {
     "data": {
      "text/plain": [
       "(13580, 21)"
      ]
     },
     "execution_count": 16,
     "metadata": {},
     "output_type": "execute_result"
    }
   ],
   "source": [
    "# Getting Dataframe shape (size)\n",
    "\n",
    "# melbourne_housing_data.shape"
   ]
  },
  {
   "cell_type": "code",
   "execution_count": 17,
   "metadata": {},
   "outputs": [
    {
     "data": {
      "text/html": [
       "<div>\n",
       "<style scoped>\n",
       "    .dataframe tbody tr th:only-of-type {\n",
       "        vertical-align: middle;\n",
       "    }\n",
       "\n",
       "    .dataframe tbody tr th {\n",
       "        vertical-align: top;\n",
       "    }\n",
       "\n",
       "    .dataframe thead th {\n",
       "        text-align: right;\n",
       "    }\n",
       "</style>\n",
       "<table border=\"1\" class=\"dataframe\">\n",
       "  <thead>\n",
       "    <tr style=\"text-align: right;\">\n",
       "      <th></th>\n",
       "      <th>Suburb</th>\n",
       "      <th>Address</th>\n",
       "      <th>Rooms</th>\n",
       "      <th>Type</th>\n",
       "      <th>Price</th>\n",
       "      <th>Method</th>\n",
       "      <th>SellerG</th>\n",
       "      <th>Date</th>\n",
       "      <th>Distance</th>\n",
       "      <th>Postcode</th>\n",
       "      <th>...</th>\n",
       "      <th>Bathroom</th>\n",
       "      <th>Car</th>\n",
       "      <th>Landsize</th>\n",
       "      <th>BuildingArea</th>\n",
       "      <th>YearBuilt</th>\n",
       "      <th>CouncilArea</th>\n",
       "      <th>Lattitude</th>\n",
       "      <th>Longtitude</th>\n",
       "      <th>Regionname</th>\n",
       "      <th>Propertycount</th>\n",
       "    </tr>\n",
       "  </thead>\n",
       "  <tbody>\n",
       "    <tr>\n",
       "      <th>0</th>\n",
       "      <td>Abbotsford</td>\n",
       "      <td>85 Turner St</td>\n",
       "      <td>2</td>\n",
       "      <td>h</td>\n",
       "      <td>1480000.0</td>\n",
       "      <td>S</td>\n",
       "      <td>Biggin</td>\n",
       "      <td>3/12/2016</td>\n",
       "      <td>2.5</td>\n",
       "      <td>3067.0</td>\n",
       "      <td>...</td>\n",
       "      <td>1.0</td>\n",
       "      <td>1.0</td>\n",
       "      <td>202.0</td>\n",
       "      <td>NaN</td>\n",
       "      <td>NaN</td>\n",
       "      <td>Yarra</td>\n",
       "      <td>-37.7996</td>\n",
       "      <td>144.9984</td>\n",
       "      <td>Northern Metropolitan</td>\n",
       "      <td>4019.0</td>\n",
       "    </tr>\n",
       "    <tr>\n",
       "      <th>1</th>\n",
       "      <td>Abbotsford</td>\n",
       "      <td>25 Bloomburg St</td>\n",
       "      <td>2</td>\n",
       "      <td>h</td>\n",
       "      <td>1035000.0</td>\n",
       "      <td>S</td>\n",
       "      <td>Biggin</td>\n",
       "      <td>4/02/2016</td>\n",
       "      <td>2.5</td>\n",
       "      <td>3067.0</td>\n",
       "      <td>...</td>\n",
       "      <td>1.0</td>\n",
       "      <td>0.0</td>\n",
       "      <td>156.0</td>\n",
       "      <td>79.0</td>\n",
       "      <td>1900.0</td>\n",
       "      <td>Yarra</td>\n",
       "      <td>-37.8079</td>\n",
       "      <td>144.9934</td>\n",
       "      <td>Northern Metropolitan</td>\n",
       "      <td>4019.0</td>\n",
       "    </tr>\n",
       "    <tr>\n",
       "      <th>2</th>\n",
       "      <td>Abbotsford</td>\n",
       "      <td>5 Charles St</td>\n",
       "      <td>3</td>\n",
       "      <td>h</td>\n",
       "      <td>1465000.0</td>\n",
       "      <td>SP</td>\n",
       "      <td>Biggin</td>\n",
       "      <td>4/03/2017</td>\n",
       "      <td>2.5</td>\n",
       "      <td>3067.0</td>\n",
       "      <td>...</td>\n",
       "      <td>2.0</td>\n",
       "      <td>0.0</td>\n",
       "      <td>134.0</td>\n",
       "      <td>150.0</td>\n",
       "      <td>1900.0</td>\n",
       "      <td>Yarra</td>\n",
       "      <td>-37.8093</td>\n",
       "      <td>144.9944</td>\n",
       "      <td>Northern Metropolitan</td>\n",
       "      <td>4019.0</td>\n",
       "    </tr>\n",
       "    <tr>\n",
       "      <th>3</th>\n",
       "      <td>Abbotsford</td>\n",
       "      <td>40 Federation La</td>\n",
       "      <td>3</td>\n",
       "      <td>h</td>\n",
       "      <td>850000.0</td>\n",
       "      <td>PI</td>\n",
       "      <td>Biggin</td>\n",
       "      <td>4/03/2017</td>\n",
       "      <td>2.5</td>\n",
       "      <td>3067.0</td>\n",
       "      <td>...</td>\n",
       "      <td>2.0</td>\n",
       "      <td>1.0</td>\n",
       "      <td>94.0</td>\n",
       "      <td>NaN</td>\n",
       "      <td>NaN</td>\n",
       "      <td>Yarra</td>\n",
       "      <td>-37.7969</td>\n",
       "      <td>144.9969</td>\n",
       "      <td>Northern Metropolitan</td>\n",
       "      <td>4019.0</td>\n",
       "    </tr>\n",
       "    <tr>\n",
       "      <th>4</th>\n",
       "      <td>Abbotsford</td>\n",
       "      <td>55a Park St</td>\n",
       "      <td>4</td>\n",
       "      <td>h</td>\n",
       "      <td>1600000.0</td>\n",
       "      <td>VB</td>\n",
       "      <td>Nelson</td>\n",
       "      <td>4/06/2016</td>\n",
       "      <td>2.5</td>\n",
       "      <td>3067.0</td>\n",
       "      <td>...</td>\n",
       "      <td>1.0</td>\n",
       "      <td>2.0</td>\n",
       "      <td>120.0</td>\n",
       "      <td>142.0</td>\n",
       "      <td>2014.0</td>\n",
       "      <td>Yarra</td>\n",
       "      <td>-37.8072</td>\n",
       "      <td>144.9941</td>\n",
       "      <td>Northern Metropolitan</td>\n",
       "      <td>4019.0</td>\n",
       "    </tr>\n",
       "  </tbody>\n",
       "</table>\n",
       "<p>5 rows × 21 columns</p>\n",
       "</div>"
      ],
      "text/plain": [
       "       Suburb           Address  Rooms Type      Price Method SellerG  \\\n",
       "0  Abbotsford      85 Turner St      2    h  1480000.0      S  Biggin   \n",
       "1  Abbotsford   25 Bloomburg St      2    h  1035000.0      S  Biggin   \n",
       "2  Abbotsford      5 Charles St      3    h  1465000.0     SP  Biggin   \n",
       "3  Abbotsford  40 Federation La      3    h   850000.0     PI  Biggin   \n",
       "4  Abbotsford       55a Park St      4    h  1600000.0     VB  Nelson   \n",
       "\n",
       "        Date  Distance  Postcode  ...  Bathroom  Car  Landsize  BuildingArea  \\\n",
       "0  3/12/2016       2.5    3067.0  ...       1.0  1.0     202.0           NaN   \n",
       "1  4/02/2016       2.5    3067.0  ...       1.0  0.0     156.0          79.0   \n",
       "2  4/03/2017       2.5    3067.0  ...       2.0  0.0     134.0         150.0   \n",
       "3  4/03/2017       2.5    3067.0  ...       2.0  1.0      94.0           NaN   \n",
       "4  4/06/2016       2.5    3067.0  ...       1.0  2.0     120.0         142.0   \n",
       "\n",
       "   YearBuilt  CouncilArea Lattitude  Longtitude             Regionname  \\\n",
       "0        NaN        Yarra  -37.7996    144.9984  Northern Metropolitan   \n",
       "1     1900.0        Yarra  -37.8079    144.9934  Northern Metropolitan   \n",
       "2     1900.0        Yarra  -37.8093    144.9944  Northern Metropolitan   \n",
       "3        NaN        Yarra  -37.7969    144.9969  Northern Metropolitan   \n",
       "4     2014.0        Yarra  -37.8072    144.9941  Northern Metropolitan   \n",
       "\n",
       "  Propertycount  \n",
       "0        4019.0  \n",
       "1        4019.0  \n",
       "2        4019.0  \n",
       "3        4019.0  \n",
       "4        4019.0  \n",
       "\n",
       "[5 rows x 21 columns]"
      ]
     },
     "execution_count": 17,
     "metadata": {},
     "output_type": "execute_result"
    }
   ],
   "source": [
    "# Get first 5 rows\n",
    "\n",
    "# melbourne_housing_data.head()"
   ]
  },
  {
   "cell_type": "markdown",
   "metadata": {},
   "source": [
    "# Accessing values"
   ]
  },
  {
   "cell_type": "code",
   "execution_count": 20,
   "metadata": {},
   "outputs": [
    {
     "data": {
      "text/plain": [
       "'85 Turner St'"
      ]
     },
     "execution_count": 20,
     "metadata": {},
     "output_type": "execute_result"
    }
   ],
   "source": [
    "# Using dot operator\n",
    "# melbourne_housing_data.Address[0]\n",
    "\n",
    "# Using bracket notation\n",
    "# melbourne_housing_data['Address'][0]"
   ]
  },
  {
   "cell_type": "markdown",
   "metadata": {},
   "source": [
    "## Indexing in pandas\n",
    "\n",
    "iloc (index-based selection) - selection based on numerical position\n",
    "loc (label-based selection) - selection based on label name\n",
    "\n",
    "* both are row first, column second (whereas Python is columnn first, row second)\n",
    "* iloc uses Python stdlib indexing scheme (0:100), while loc indexes inclusively (1:100)"
   ]
  },
  {
   "cell_type": "code",
   "execution_count": 27,
   "metadata": {},
   "outputs": [
    {
     "data": {
      "text/plain": [
       "Suburb                      Abbotsford\n",
       "Address                   85 Turner St\n",
       "Rooms                                2\n",
       "Type                                 h\n",
       "Price                        1480000.0\n",
       "Method                               S\n",
       "SellerG                         Biggin\n",
       "Date                         3/12/2016\n",
       "Distance                           2.5\n",
       "Postcode                        3067.0\n",
       "Bedroom2                           2.0\n",
       "Bathroom                           1.0\n",
       "Car                                1.0\n",
       "Landsize                         202.0\n",
       "BuildingArea                       NaN\n",
       "YearBuilt                          NaN\n",
       "CouncilArea                      Yarra\n",
       "Lattitude                     -37.7996\n",
       "Longtitude                    144.9984\n",
       "Regionname       Northern Metropolitan\n",
       "Propertycount                   4019.0\n",
       "Name: 0, dtype: object"
      ]
     },
     "execution_count": 27,
     "metadata": {},
     "output_type": "execute_result"
    }
   ],
   "source": [
    "# Accessing rows with loc and iloc\n",
    "# melbourne_housing_data.iloc[0]\n",
    "# melbourne_housing_data.loc[0]"
   ]
  },
  {
   "cell_type": "code",
   "execution_count": 30,
   "metadata": {},
   "outputs": [
    {
     "data": {
      "text/plain": [
       "0           Abbotsford\n",
       "1           Abbotsford\n",
       "2           Abbotsford\n",
       "3           Abbotsford\n",
       "4           Abbotsford\n",
       "             ...      \n",
       "13575    Wheelers Hill\n",
       "13576     Williamstown\n",
       "13577     Williamstown\n",
       "13578     Williamstown\n",
       "13579       Yarraville\n",
       "Name: Suburb, Length: 13580, dtype: object"
      ]
     },
     "execution_count": 30,
     "metadata": {},
     "output_type": "execute_result"
    }
   ],
   "source": [
    "# Accessing columsn with loc and iloc\n",
    "# melbourne_housing_data.iloc[:, 0]\n",
    "# melbourne_housing_data.loc[:, 'Suburb']"
   ]
  },
  {
   "cell_type": "code",
   "execution_count": 48,
   "metadata": {},
   "outputs": [],
   "source": [
    "# Change label of the index\n",
    "# melbourne_housing_data.set_index(\"Address\", inplace=False)\n",
    "melbourne_housing_data.loc['85 Turner St']"
   ]
  },
  {
   "cell_type": "markdown",
   "metadata": {},
   "source": [
    "## Conditional selection"
   ]
  },
  {
   "cell_type": "code",
   "execution_count": 58,
   "metadata": {},
   "outputs": [],
   "source": [
    "# Getting rows where 'Rooms' == 2\n",
    "\n",
    "# melbourne_housing_data.loc[melbourne_housing_data.Rooms==2]"
   ]
  },
  {
   "cell_type": "markdown",
   "metadata": {},
   "source": [
    "### Selecting based on isin and isnull/notnull\n",
    "\n",
    "isin - set multiple values as the condition\n",
    "isnull/notnull - get values that are null / not null"
   ]
  },
  {
   "cell_type": "code",
   "execution_count": 60,
   "metadata": {},
   "outputs": [
    {
     "data": {
      "text/html": [
       "<div>\n",
       "<style scoped>\n",
       "    .dataframe tbody tr th:only-of-type {\n",
       "        vertical-align: middle;\n",
       "    }\n",
       "\n",
       "    .dataframe tbody tr th {\n",
       "        vertical-align: top;\n",
       "    }\n",
       "\n",
       "    .dataframe thead th {\n",
       "        text-align: right;\n",
       "    }\n",
       "</style>\n",
       "<table border=\"1\" class=\"dataframe\">\n",
       "  <thead>\n",
       "    <tr style=\"text-align: right;\">\n",
       "      <th></th>\n",
       "      <th>Suburb</th>\n",
       "      <th>Rooms</th>\n",
       "      <th>Type</th>\n",
       "      <th>Price</th>\n",
       "      <th>Method</th>\n",
       "      <th>SellerG</th>\n",
       "      <th>Date</th>\n",
       "      <th>Distance</th>\n",
       "      <th>Postcode</th>\n",
       "      <th>Bedroom2</th>\n",
       "      <th>Bathroom</th>\n",
       "      <th>Car</th>\n",
       "      <th>Landsize</th>\n",
       "      <th>BuildingArea</th>\n",
       "      <th>YearBuilt</th>\n",
       "      <th>CouncilArea</th>\n",
       "      <th>Lattitude</th>\n",
       "      <th>Longtitude</th>\n",
       "      <th>Regionname</th>\n",
       "      <th>Propertycount</th>\n",
       "    </tr>\n",
       "    <tr>\n",
       "      <th>Address</th>\n",
       "      <th></th>\n",
       "      <th></th>\n",
       "      <th></th>\n",
       "      <th></th>\n",
       "      <th></th>\n",
       "      <th></th>\n",
       "      <th></th>\n",
       "      <th></th>\n",
       "      <th></th>\n",
       "      <th></th>\n",
       "      <th></th>\n",
       "      <th></th>\n",
       "      <th></th>\n",
       "      <th></th>\n",
       "      <th></th>\n",
       "      <th></th>\n",
       "      <th></th>\n",
       "      <th></th>\n",
       "      <th></th>\n",
       "      <th></th>\n",
       "    </tr>\n",
       "  </thead>\n",
       "  <tbody>\n",
       "    <tr>\n",
       "      <th>85 Turner St</th>\n",
       "      <td>Abbotsford</td>\n",
       "      <td>2</td>\n",
       "      <td>h</td>\n",
       "      <td>1480000.0</td>\n",
       "      <td>S</td>\n",
       "      <td>Biggin</td>\n",
       "      <td>3/12/2016</td>\n",
       "      <td>2.5</td>\n",
       "      <td>3067.0</td>\n",
       "      <td>2.0</td>\n",
       "      <td>1.0</td>\n",
       "      <td>1.0</td>\n",
       "      <td>202.0</td>\n",
       "      <td>NaN</td>\n",
       "      <td>NaN</td>\n",
       "      <td>Yarra</td>\n",
       "      <td>-37.79960</td>\n",
       "      <td>144.99840</td>\n",
       "      <td>Northern Metropolitan</td>\n",
       "      <td>4019.0</td>\n",
       "    </tr>\n",
       "    <tr>\n",
       "      <th>25 Bloomburg St</th>\n",
       "      <td>Abbotsford</td>\n",
       "      <td>2</td>\n",
       "      <td>h</td>\n",
       "      <td>1035000.0</td>\n",
       "      <td>S</td>\n",
       "      <td>Biggin</td>\n",
       "      <td>4/02/2016</td>\n",
       "      <td>2.5</td>\n",
       "      <td>3067.0</td>\n",
       "      <td>2.0</td>\n",
       "      <td>1.0</td>\n",
       "      <td>0.0</td>\n",
       "      <td>156.0</td>\n",
       "      <td>79.0</td>\n",
       "      <td>1900.0</td>\n",
       "      <td>Yarra</td>\n",
       "      <td>-37.80790</td>\n",
       "      <td>144.99340</td>\n",
       "      <td>Northern Metropolitan</td>\n",
       "      <td>4019.0</td>\n",
       "    </tr>\n",
       "    <tr>\n",
       "      <th>5 Charles St</th>\n",
       "      <td>Abbotsford</td>\n",
       "      <td>3</td>\n",
       "      <td>h</td>\n",
       "      <td>1465000.0</td>\n",
       "      <td>SP</td>\n",
       "      <td>Biggin</td>\n",
       "      <td>4/03/2017</td>\n",
       "      <td>2.5</td>\n",
       "      <td>3067.0</td>\n",
       "      <td>3.0</td>\n",
       "      <td>2.0</td>\n",
       "      <td>0.0</td>\n",
       "      <td>134.0</td>\n",
       "      <td>150.0</td>\n",
       "      <td>1900.0</td>\n",
       "      <td>Yarra</td>\n",
       "      <td>-37.80930</td>\n",
       "      <td>144.99440</td>\n",
       "      <td>Northern Metropolitan</td>\n",
       "      <td>4019.0</td>\n",
       "    </tr>\n",
       "    <tr>\n",
       "      <th>40 Federation La</th>\n",
       "      <td>Abbotsford</td>\n",
       "      <td>3</td>\n",
       "      <td>h</td>\n",
       "      <td>850000.0</td>\n",
       "      <td>PI</td>\n",
       "      <td>Biggin</td>\n",
       "      <td>4/03/2017</td>\n",
       "      <td>2.5</td>\n",
       "      <td>3067.0</td>\n",
       "      <td>3.0</td>\n",
       "      <td>2.0</td>\n",
       "      <td>1.0</td>\n",
       "      <td>94.0</td>\n",
       "      <td>NaN</td>\n",
       "      <td>NaN</td>\n",
       "      <td>Yarra</td>\n",
       "      <td>-37.79690</td>\n",
       "      <td>144.99690</td>\n",
       "      <td>Northern Metropolitan</td>\n",
       "      <td>4019.0</td>\n",
       "    </tr>\n",
       "    <tr>\n",
       "      <th>129 Charles St</th>\n",
       "      <td>Abbotsford</td>\n",
       "      <td>2</td>\n",
       "      <td>h</td>\n",
       "      <td>941000.0</td>\n",
       "      <td>S</td>\n",
       "      <td>Jellis</td>\n",
       "      <td>7/05/2016</td>\n",
       "      <td>2.5</td>\n",
       "      <td>3067.0</td>\n",
       "      <td>2.0</td>\n",
       "      <td>1.0</td>\n",
       "      <td>0.0</td>\n",
       "      <td>181.0</td>\n",
       "      <td>NaN</td>\n",
       "      <td>NaN</td>\n",
       "      <td>Yarra</td>\n",
       "      <td>-37.80410</td>\n",
       "      <td>144.99530</td>\n",
       "      <td>Northern Metropolitan</td>\n",
       "      <td>4019.0</td>\n",
       "    </tr>\n",
       "    <tr>\n",
       "      <th>...</th>\n",
       "      <td>...</td>\n",
       "      <td>...</td>\n",
       "      <td>...</td>\n",
       "      <td>...</td>\n",
       "      <td>...</td>\n",
       "      <td>...</td>\n",
       "      <td>...</td>\n",
       "      <td>...</td>\n",
       "      <td>...</td>\n",
       "      <td>...</td>\n",
       "      <td>...</td>\n",
       "      <td>...</td>\n",
       "      <td>...</td>\n",
       "      <td>...</td>\n",
       "      <td>...</td>\n",
       "      <td>...</td>\n",
       "      <td>...</td>\n",
       "      <td>...</td>\n",
       "      <td>...</td>\n",
       "      <td>...</td>\n",
       "    </tr>\n",
       "    <tr>\n",
       "      <th>34 Fewster Dr</th>\n",
       "      <td>Wantirna South</td>\n",
       "      <td>3</td>\n",
       "      <td>h</td>\n",
       "      <td>970000.0</td>\n",
       "      <td>S</td>\n",
       "      <td>Barry</td>\n",
       "      <td>26/08/2017</td>\n",
       "      <td>14.7</td>\n",
       "      <td>3152.0</td>\n",
       "      <td>3.0</td>\n",
       "      <td>2.0</td>\n",
       "      <td>2.0</td>\n",
       "      <td>674.0</td>\n",
       "      <td>NaN</td>\n",
       "      <td>NaN</td>\n",
       "      <td>NaN</td>\n",
       "      <td>-37.88360</td>\n",
       "      <td>145.22805</td>\n",
       "      <td>Eastern Metropolitan</td>\n",
       "      <td>7082.0</td>\n",
       "    </tr>\n",
       "    <tr>\n",
       "      <th>76 Kenmare St</th>\n",
       "      <td>Watsonia</td>\n",
       "      <td>2</td>\n",
       "      <td>h</td>\n",
       "      <td>650000.0</td>\n",
       "      <td>PI</td>\n",
       "      <td>Morrison</td>\n",
       "      <td>26/08/2017</td>\n",
       "      <td>14.5</td>\n",
       "      <td>3087.0</td>\n",
       "      <td>2.0</td>\n",
       "      <td>1.0</td>\n",
       "      <td>1.0</td>\n",
       "      <td>210.0</td>\n",
       "      <td>79.0</td>\n",
       "      <td>2006.0</td>\n",
       "      <td>NaN</td>\n",
       "      <td>-37.70657</td>\n",
       "      <td>145.07878</td>\n",
       "      <td>Northern Metropolitan</td>\n",
       "      <td>2329.0</td>\n",
       "    </tr>\n",
       "    <tr>\n",
       "      <th>9 Black St</th>\n",
       "      <td>Westmeadows</td>\n",
       "      <td>3</td>\n",
       "      <td>h</td>\n",
       "      <td>582000.0</td>\n",
       "      <td>S</td>\n",
       "      <td>Red</td>\n",
       "      <td>26/08/2017</td>\n",
       "      <td>16.5</td>\n",
       "      <td>3049.0</td>\n",
       "      <td>3.0</td>\n",
       "      <td>2.0</td>\n",
       "      <td>2.0</td>\n",
       "      <td>256.0</td>\n",
       "      <td>NaN</td>\n",
       "      <td>NaN</td>\n",
       "      <td>NaN</td>\n",
       "      <td>-37.67917</td>\n",
       "      <td>144.89390</td>\n",
       "      <td>Northern Metropolitan</td>\n",
       "      <td>2474.0</td>\n",
       "    </tr>\n",
       "    <tr>\n",
       "      <th>77 Merrett Dr</th>\n",
       "      <td>Williamstown</td>\n",
       "      <td>3</td>\n",
       "      <td>h</td>\n",
       "      <td>1031000.0</td>\n",
       "      <td>SP</td>\n",
       "      <td>Williams</td>\n",
       "      <td>26/08/2017</td>\n",
       "      <td>6.8</td>\n",
       "      <td>3016.0</td>\n",
       "      <td>3.0</td>\n",
       "      <td>2.0</td>\n",
       "      <td>2.0</td>\n",
       "      <td>333.0</td>\n",
       "      <td>133.0</td>\n",
       "      <td>1995.0</td>\n",
       "      <td>NaN</td>\n",
       "      <td>-37.85927</td>\n",
       "      <td>144.87904</td>\n",
       "      <td>Western Metropolitan</td>\n",
       "      <td>6380.0</td>\n",
       "    </tr>\n",
       "    <tr>\n",
       "      <th>83 Power St</th>\n",
       "      <td>Williamstown</td>\n",
       "      <td>3</td>\n",
       "      <td>h</td>\n",
       "      <td>1170000.0</td>\n",
       "      <td>S</td>\n",
       "      <td>Raine</td>\n",
       "      <td>26/08/2017</td>\n",
       "      <td>6.8</td>\n",
       "      <td>3016.0</td>\n",
       "      <td>3.0</td>\n",
       "      <td>2.0</td>\n",
       "      <td>4.0</td>\n",
       "      <td>436.0</td>\n",
       "      <td>NaN</td>\n",
       "      <td>1997.0</td>\n",
       "      <td>NaN</td>\n",
       "      <td>-37.85274</td>\n",
       "      <td>144.88738</td>\n",
       "      <td>Western Metropolitan</td>\n",
       "      <td>6380.0</td>\n",
       "    </tr>\n",
       "  </tbody>\n",
       "</table>\n",
       "<p>9529 rows × 20 columns</p>\n",
       "</div>"
      ],
      "text/plain": [
       "                          Suburb  Rooms Type      Price Method   SellerG  \\\n",
       "Address                                                                    \n",
       "85 Turner St          Abbotsford      2    h  1480000.0      S    Biggin   \n",
       "25 Bloomburg St       Abbotsford      2    h  1035000.0      S    Biggin   \n",
       "5 Charles St          Abbotsford      3    h  1465000.0     SP    Biggin   \n",
       "40 Federation La      Abbotsford      3    h   850000.0     PI    Biggin   \n",
       "129 Charles St        Abbotsford      2    h   941000.0      S    Jellis   \n",
       "...                          ...    ...  ...        ...    ...       ...   \n",
       "34 Fewster Dr     Wantirna South      3    h   970000.0      S     Barry   \n",
       "76 Kenmare St           Watsonia      2    h   650000.0     PI  Morrison   \n",
       "9 Black St           Westmeadows      3    h   582000.0      S       Red   \n",
       "77 Merrett Dr       Williamstown      3    h  1031000.0     SP  Williams   \n",
       "83 Power St         Williamstown      3    h  1170000.0      S     Raine   \n",
       "\n",
       "                        Date  Distance  Postcode  Bedroom2  Bathroom  Car  \\\n",
       "Address                                                                     \n",
       "85 Turner St       3/12/2016       2.5    3067.0       2.0       1.0  1.0   \n",
       "25 Bloomburg St    4/02/2016       2.5    3067.0       2.0       1.0  0.0   \n",
       "5 Charles St       4/03/2017       2.5    3067.0       3.0       2.0  0.0   \n",
       "40 Federation La   4/03/2017       2.5    3067.0       3.0       2.0  1.0   \n",
       "129 Charles St     7/05/2016       2.5    3067.0       2.0       1.0  0.0   \n",
       "...                      ...       ...       ...       ...       ...  ...   \n",
       "34 Fewster Dr     26/08/2017      14.7    3152.0       3.0       2.0  2.0   \n",
       "76 Kenmare St     26/08/2017      14.5    3087.0       2.0       1.0  1.0   \n",
       "9 Black St        26/08/2017      16.5    3049.0       3.0       2.0  2.0   \n",
       "77 Merrett Dr     26/08/2017       6.8    3016.0       3.0       2.0  2.0   \n",
       "83 Power St       26/08/2017       6.8    3016.0       3.0       2.0  4.0   \n",
       "\n",
       "                  Landsize  BuildingArea  YearBuilt CouncilArea  Lattitude  \\\n",
       "Address                                                                      \n",
       "85 Turner St         202.0           NaN        NaN       Yarra  -37.79960   \n",
       "25 Bloomburg St      156.0          79.0     1900.0       Yarra  -37.80790   \n",
       "5 Charles St         134.0         150.0     1900.0       Yarra  -37.80930   \n",
       "40 Federation La      94.0           NaN        NaN       Yarra  -37.79690   \n",
       "129 Charles St       181.0           NaN        NaN       Yarra  -37.80410   \n",
       "...                    ...           ...        ...         ...        ...   \n",
       "34 Fewster Dr        674.0           NaN        NaN         NaN  -37.88360   \n",
       "76 Kenmare St        210.0          79.0     2006.0         NaN  -37.70657   \n",
       "9 Black St           256.0           NaN        NaN         NaN  -37.67917   \n",
       "77 Merrett Dr        333.0         133.0     1995.0         NaN  -37.85927   \n",
       "83 Power St          436.0           NaN     1997.0         NaN  -37.85274   \n",
       "\n",
       "                  Longtitude             Regionname  Propertycount  \n",
       "Address                                                             \n",
       "85 Turner St       144.99840  Northern Metropolitan         4019.0  \n",
       "25 Bloomburg St    144.99340  Northern Metropolitan         4019.0  \n",
       "5 Charles St       144.99440  Northern Metropolitan         4019.0  \n",
       "40 Federation La   144.99690  Northern Metropolitan         4019.0  \n",
       "129 Charles St     144.99530  Northern Metropolitan         4019.0  \n",
       "...                      ...                    ...            ...  \n",
       "34 Fewster Dr      145.22805   Eastern Metropolitan         7082.0  \n",
       "76 Kenmare St      145.07878  Northern Metropolitan         2329.0  \n",
       "9 Black St         144.89390  Northern Metropolitan         2474.0  \n",
       "77 Merrett Dr      144.87904   Western Metropolitan         6380.0  \n",
       "83 Power St        144.88738   Western Metropolitan         6380.0  \n",
       "\n",
       "[9529 rows x 20 columns]"
      ]
     },
     "execution_count": 60,
     "metadata": {},
     "output_type": "execute_result"
    }
   ],
   "source": [
    "# Get houses with either 2 or 3 rooms\n",
    "# melbourne_housing_data.loc[melbourne_housing_data.Rooms.isin([2, 3])]"
   ]
  },
  {
   "cell_type": "code",
   "execution_count": 74,
   "metadata": {},
   "outputs": [],
   "source": [
    "# Get values which are not null\n",
    "# melbourne_housing_data_columns = [x for x in melbourne_housing_data.iloc[:]]\n",
    "# rows_null, col_null = zip(*[(idx, col) for idx, row in melbourne_housing_data.iterrows()\n",
    "#                             for col, value in row.items() if melbourne_housing_data.empty])\n",
    "\n",
    "# print(rows_null, col_null)"
   ]
  },
  {
   "cell_type": "markdown",
   "metadata": {},
   "source": [
    "# Summary functions"
   ]
  },
  {
   "cell_type": "code",
   "execution_count": 81,
   "metadata": {},
   "outputs": [],
   "source": [
    "# Using describe() to summarize 'Price' column\n",
    "# melbourne_housing_data.Price.describe()\n",
    "\n",
    "# Getting mean of 'Price' column\n",
    "# melbourne_housing_data.Price.mean()\n",
    "\n",
    "# Getting total number of data in a Series\n",
    "# melbourne_housing_data.Price.map(lambda x: x > 10).sum()\n",
    "\n",
    "# Getting unique values in 'Price' column\n",
    "# melbourne_housing_data.Price.unique()\n",
    "\n",
    "# Getting unique values and count in 'Price' column\n",
    "# melbourne_housing_data.Price.value_counts()\n",
    "\n",
    "# Get index of max/min values of Series\n",
    "# melboure_housing_data.Price.idxmax()\n",
    "# melboure_housing_data.Price.idxmin()"
   ]
  },
  {
   "cell_type": "markdown",
   "metadata": {},
   "source": [
    "# Mapping values using map() and apply() and built in pandas functionalities"
   ]
  },
  {
   "cell_type": "code",
   "execution_count": 83,
   "metadata": {},
   "outputs": [],
   "source": [
    "# Using map() to transform every element in an array (function in map must be done on a single value (i.e. mean))\n",
    "\n",
    "# melbourne_housing_data_mean_price = melbourne_housing_data.Price.mean()\n",
    "# melbourne_housing_data.Price.map(lambda x: x - melbourne_housing_data_mean_price)"
   ]
  },
  {
   "cell_type": "code",
   "execution_count": 86,
   "metadata": {},
   "outputs": [],
   "source": [
    "# Using apply() to transform a whole table\n",
    "\n",
    "# melbourne_housing_data_mean_price = melbourne_housing_data.Price.mean()\n",
    "# def normalize_price_by_mean(row):\n",
    "#     row.Price = row.Price - melbourne_housing_data_mean_price\n",
    "#     return row\n",
    "\n",
    "# melbourne_housing_data.apply(normalize_price_by_mean, axis='columns')"
   ]
  },
  {
   "cell_type": "code",
   "execution_count": 88,
   "metadata": {},
   "outputs": [],
   "source": [
    "# Using pandas built up functionalities to normalize 'Price'\n",
    "\n",
    "# melbourne_housing_data_mean_price = melbourne_housing_data.Price.mean()\n",
    "# melbourne_housing_data.Price - melbourne_housing_data_mean_price"
   ]
  },
  {
   "cell_type": "markdown",
   "metadata": {},
   "source": [
    "# Grouping"
   ]
  },
  {
   "cell_type": "code",
   "execution_count": 49,
   "metadata": {},
   "outputs": [
    {
     "data": {
      "text/plain": [
       "Rooms\n",
       "1       85000.0\n",
       "2      190000.0\n",
       "3      283000.0\n",
       "4      131000.0\n",
       "5      355000.0\n",
       "6      506000.0\n",
       "7     1005000.0\n",
       "8      741000.0\n",
       "10     900000.0\n",
       "Name: Price, dtype: float64"
      ]
     },
     "execution_count": 49,
     "metadata": {},
     "output_type": "execute_result"
    }
   ],
   "source": [
    "# Using groupby() to group DataFrame and get the min of each group\n",
    "\n",
    "# melbourne_housing_data.groupby('Rooms').Price.min()"
   ]
  },
  {
   "cell_type": "code",
   "execution_count": 12,
   "metadata": {},
   "outputs": [],
   "source": [
    "# Accessing the DataFrame once it is grouped\n",
    "\n",
    "# Getting the name of the first address of each group\n",
    "# melbourne_housing_data.groupby('Rooms').apply(lambda address: melbourne_housing_data.Address.loc[0])"
   ]
  },
  {
   "cell_type": "code",
   "execution_count": 18,
   "metadata": {},
   "outputs": [],
   "source": [
    "# Grouping the data into 2 groups\n",
    "# melbourne_housing_data.groupby(['Rooms', 'Type']).Price.max()"
   ]
  },
  {
   "cell_type": "code",
   "execution_count": 21,
   "metadata": {},
   "outputs": [],
   "source": [
    "# Running multiple summary functions on DataFrame with agg()\n",
    "\n",
    "# melbourne_housing_data.groupby('Rooms').Price.agg([min, max])"
   ]
  },
  {
   "cell_type": "markdown",
   "metadata": {},
   "source": [
    "Performing a groupby() call will sometimes generate a multi-index DataFrame"
   ]
  },
  {
   "cell_type": "code",
   "execution_count": 27,
   "metadata": {},
   "outputs": [],
   "source": [
    "# Reseting the index of a multi-index DataFrame with reset_index()\n",
    "\n",
    "# melbourne_housing_data_grouped_rooms = melbourne_housing_data.groupby(['Rooms', 'Type'])\n",
    "# print(melbourne_housing_data_grouped_rooms)\n",
    "# print(melbourne_housing_data.reset_index())"
   ]
  },
  {
   "cell_type": "markdown",
   "metadata": {},
   "source": [
    "# Sorting"
   ]
  },
  {
   "cell_type": "code",
   "execution_count": 40,
   "metadata": {},
   "outputs": [],
   "source": [
    "# Using sort_values() to sort data\n",
    "# max_melbourne_housing_data_grouped_rooms = melbourne_housing_data.groupby('Rooms').Price.max()\n",
    "# max_melbourne_housing_data_grouped_rooms.sort_values(ascending=False)"
   ]
  },
  {
   "cell_type": "code",
   "execution_count": 44,
   "metadata": {},
   "outputs": [],
   "source": [
    "# Sorting with 2 values\n",
    "\n",
    "# melbourne_housing_data_grouped_rooms_type = melbourne_housing_data.groupby(['Rooms', 'Type']).Price.agg([max])\n",
    "# melbourne_housing_data_grouped_rooms_type.sort_values(by=['max', 'Type'])"
   ]
  },
  {
   "cell_type": "code",
   "execution_count": 48,
   "metadata": {},
   "outputs": [],
   "source": [
    "# Sorting by index value\n",
    "\n",
    "# melbourne_housing_data.Price.sort_index(ascending=False)"
   ]
  },
  {
   "cell_type": "markdown",
   "metadata": {},
   "source": [
    "# Data Types"
   ]
  },
  {
   "cell_type": "code",
   "execution_count": 13,
   "metadata": {},
   "outputs": [
    {
     "data": {
      "text/plain": [
       "dtype('float64')"
      ]
     },
     "execution_count": 13,
     "metadata": {},
     "output_type": "execute_result"
    }
   ],
   "source": [
    "# Get dtype of column\n",
    "\n",
    "# melbourne_housing_data.Price.dtype"
   ]
  },
  {
   "cell_type": "code",
   "execution_count": 15,
   "metadata": {},
   "outputs": [],
   "source": [
    "# Get dtype of DataFrame\n",
    "\n",
    "# melbourne_housing_data.dtypes"
   ]
  },
  {
   "cell_type": "code",
   "execution_count": 16,
   "metadata": {},
   "outputs": [],
   "source": [
    "# Change dtype with astype()\n",
    "\n",
    "# melbourne_housing_data.Rooms.astype('float64')"
   ]
  },
  {
   "cell_type": "code",
   "execution_count": 18,
   "metadata": {},
   "outputs": [],
   "source": [
    "# Getting the dtype of an index\n",
    "\n",
    "# melbourne_housing_data.index.dtype"
   ]
  },
  {
   "cell_type": "markdown",
   "metadata": {},
   "source": [
    "# Missing data"
   ]
  },
  {
   "cell_type": "code",
   "execution_count": 20,
   "metadata": {},
   "outputs": [],
   "source": [
    "# Getting null values from a specific column\n",
    "\n",
    "# melbourne_housing_data[pd.isnull(melbourne_housing_data.Rooms)]"
   ]
  },
  {
   "cell_type": "code",
   "execution_count": 21,
   "metadata": {},
   "outputs": [],
   "source": [
    "# Replacing null values with a different value\n",
    "\n",
    "# melbourne_housing_data.Rooms.fillna('Unknown')"
   ]
  },
  {
   "cell_type": "code",
   "execution_count": 22,
   "metadata": {},
   "outputs": [],
   "source": [
    "# Replacing any value with a different value\n",
    "\n",
    "# melbourne_housing_data.Rooms.replace('a', 'b')"
   ]
  },
  {
   "cell_type": "markdown",
   "metadata": {},
   "source": [
    "# Renaming"
   ]
  },
  {
   "cell_type": "code",
   "execution_count": 23,
   "metadata": {},
   "outputs": [],
   "source": [
    "# Renaming a column\n",
    "\n",
    "# melbourne_housing_data.rename(columns={'Rooms': 'Room'})"
   ]
  },
  {
   "cell_type": "code",
   "execution_count": 25,
   "metadata": {},
   "outputs": [],
   "source": [
    "# Renaming a row in the index (easier to just use set_index())\n",
    "\n",
    "# melbourne_housing_data.rename(index={0: 'firstEntry', 1: 'secondEntry'})"
   ]
  },
  {
   "cell_type": "code",
   "execution_count": 26,
   "metadata": {},
   "outputs": [],
   "source": [
    "# Renaming the axes\n",
    "\n",
    "# melbourne_housing_data.rename_axis(\"row_name\", axis='rows').rename_axis(\"column_name\", axis='columns')"
   ]
  },
  {
   "cell_type": "markdown",
   "metadata": {},
   "source": [
    "# Combining\n",
    "\n",
    "concat() combines data separated into 2 DataFrames (having the same columns)\n",
    "join() combines DataFrames that have a common index\n",
    " - lsuffix, rsuffix adds text to the end of each respective column, if the 2 columns are same and need to be differentiated"
   ]
  }
 ],
 "metadata": {
  "kernelspec": {
   "display_name": ".venv",
   "language": "python",
   "name": "python3"
  },
  "language_info": {
   "codemirror_mode": {
    "name": "ipython",
    "version": 3
   },
   "file_extension": ".py",
   "mimetype": "text/x-python",
   "name": "python",
   "nbconvert_exporter": "python",
   "pygments_lexer": "ipython3",
   "version": "3.10.6"
  },
  "orig_nbformat": 4
 },
 "nbformat": 4,
 "nbformat_minor": 2
}
